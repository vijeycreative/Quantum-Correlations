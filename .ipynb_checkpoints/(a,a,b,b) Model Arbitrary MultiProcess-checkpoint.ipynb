{
 "cells": [
  {
   "cell_type": "code",
   "execution_count": 2,
   "metadata": {},
   "outputs": [],
   "source": [
    "import math\n",
    "import itertools\n",
    "import numpy as np\n",
    "import multiprocessing\n",
    "from multiprocessing import Process, Pool, Array\n",
    "from tqdm import tqdm\n",
    "import time\n",
    "import matplotlib.pyplot as plt\n",
    "import seaborn as sns; sns.set()"
   ]
  },
  {
   "cell_type": "code",
   "execution_count": 3,
   "metadata": {},
   "outputs": [],
   "source": [
    "def probDist(a,b):\n",
    "    pArr = np.array([[a,b,a,b],\n",
    "                 [b,a,a,b],\n",
    "                 [b,a,b,a],\n",
    "                 [a,b,b,a]])\n",
    "    return pArr"
   ]
  },
  {
   "cell_type": "code",
   "execution_count": 4,
   "metadata": {},
   "outputs": [],
   "source": [
    "def H(a):\n",
    "    if(a == 0):\n",
    "        return 0\n",
    "    else:\n",
    "        return (a*math.log2(1/a))"
   ]
  },
  {
   "cell_type": "code",
   "execution_count": 5,
   "metadata": {},
   "outputs": [],
   "source": [
    "def mutualInfo(a,b):\n",
    "    return 2 - 2*H(a) - 2*H(b)"
   ]
  },
  {
   "cell_type": "code",
   "execution_count": 7,
   "metadata": {},
   "outputs": [],
   "source": [
    "def calculateViolation(arr):\n",
    "    x = np.arange(0, 1.001, 0.001)\n",
    "    for a in x:\n",
    "        for b in x:\n",
    "            if(2*a + 2*b == 1.00):\n",
    "                pArr = probDist(a,b)\n",
    "                xy = 0\n",
    "                xY = 0\n",
    "                Xy = 0\n",
    "                XY = 0\n",
    "                for i in range(0, arr.shape[1]):\n",
    "                    xy += arr[i,0]*arr[i,2]*pArr[i,0]\n",
    "                    xY += arr[i,0]*arr[i,3]*pArr[i,1]\n",
    "                    Xy += arr[i,1]*arr[i,2]*pArr[i,2]\n",
    "                    XY += arr[i,1]*arr[i,3]*pArr[i,3]\n",
    "                E = xy + xY +Xy - XY\n",
    "                MI = mutualInfo(a,b)\n",
    "                if(abs(E) >= 3.9 and MI <= 1):\n",
    "                    print(\"a = \", a, \" b = \", b, \" MI = \", MI, \" E = \", abs(E))\n",
    "                    if(MI <= 0.5):\n",
    "                        print(arr)\n",
    "                        print(\" \")                   "
   ]
  },
  {
   "cell_type": "code",
   "execution_count": 8,
   "metadata": {},
   "outputs": [],
   "source": [
    "values = [-1,1]\n",
    "seq = itertools.product(values, repeat=16)\n",
    "settingArrays = []\n",
    "for s in seq:\n",
    "    # convert to numpy array and reshape to 4x4\n",
    "    settingArray = np.fromiter(s, np.int8).reshape(4, 4)\n",
    "    settingArrays.append(settingArray)"
   ]
  },
  {
   "cell_type": "code",
   "execution_count": null,
   "metadata": {},
   "outputs": [],
   "source": [
    "p = Pool(multiprocessing.cpu_count())\n",
    "p.map(calculateViolation, settingArrays)"
   ]
  },
  {
   "cell_type": "code",
   "execution_count": null,
   "metadata": {},
   "outputs": [],
   "source": []
  }
 ],
 "metadata": {
  "kernelspec": {
   "display_name": "Python 3",
   "language": "python",
   "name": "python3"
  },
  "language_info": {
   "codemirror_mode": {
    "name": "ipython",
    "version": 3
   },
   "file_extension": ".py",
   "mimetype": "text/x-python",
   "name": "python",
   "nbconvert_exporter": "python",
   "pygments_lexer": "ipython3",
   "version": "3.7.3"
  }
 },
 "nbformat": 4,
 "nbformat_minor": 2
}
