{
 "cells": [
  {
   "cell_type": "code",
   "execution_count": 1,
   "metadata": {},
   "outputs": [],
   "source": [
    "import math\n",
    "import itertools\n",
    "import numpy as np\n",
    "import multiprocessing\n",
    "from multiprocessing import Process, Pool, Array\n",
    "from tqdm import tqdm\n",
    "import time\n",
    "import matplotlib.pyplot as plt\n",
    "import seaborn as sns; sns.set()"
   ]
  },
  {
   "cell_type": "code",
   "execution_count": 2,
   "metadata": {},
   "outputs": [],
   "source": [
    "def probDist(a,b):\n",
    "    pArr = np.array([[a,b,a,b],\n",
    "                 [b,a,a,b],\n",
    "                 [b,a,b,a],\n",
    "                 [a,b,b,a]])\n",
    "    return pArr"
   ]
  },
  {
   "cell_type": "code",
   "execution_count": 3,
   "metadata": {},
   "outputs": [],
   "source": [
    "def H(a):\n",
    "    if(a == 0):\n",
    "        return 0\n",
    "    else:\n",
    "        return (a*math.log2(1/a))"
   ]
  },
  {
   "cell_type": "code",
   "execution_count": 4,
   "metadata": {},
   "outputs": [],
   "source": [
    "def mutualInfo(a,b):\n",
    "    return 2 - 2*H(a) - 2*H(b)"
   ]
  },
  {
   "cell_type": "code",
   "execution_count": 5,
   "metadata": {},
   "outputs": [],
   "source": [
    "viol = []\n",
    "distribution = []\n",
    "arrSettings = []\n",
    "MIs = []\n",
    "maximalViol = []\n",
    "def calculateViolation(arr):\n",
    "    x = np.arange(0, 1.001, 0.001)\n",
    "    for a in x:\n",
    "        for b in x:\n",
    "            if(2*a + 2*b == 1.00):\n",
    "                pArr = probDist(a,b)\n",
    "                xy = 0\n",
    "                xY = 0\n",
    "                Xy = 0\n",
    "                XY = 0\n",
    "                for i in range(0, arr.shape[1]):\n",
    "                    xy += arr[i,0]*arr[i,2]*pArr[i,0]\n",
    "                    xY += arr[i,0]*arr[i,3]*pArr[i,1]\n",
    "                    Xy += arr[i,1]*arr[i,2]*pArr[i,2]\n",
    "                    XY += arr[i,1]*arr[i,3]*pArr[i,3]\n",
    "                E = xy + xY +Xy - XY\n",
    "                MI = mutualInfo(a,b)\n",
    "                viol.append(abs(E))\n",
    "                if(abs(E) >= 3.9 and MI <= 1):\n",
    "                    print(\"a = \", a, \" b = \", b, \" MI = \", MI, \" E = \", abs(E))\n",
    "                    #print(arr)\n",
    "                    #print(\" \")\n",
    "                    MIs.append(MI)\n",
    "                    \n"
   ]
  },
  {
   "cell_type": "code",
   "execution_count": 6,
   "metadata": {},
   "outputs": [
    {
     "name": "stderr",
     "output_type": "stream",
     "text": [
      "  0%|          | 65/65536 [01:16<21:14:06,  1.17s/it]"
     ]
    },
    {
     "name": "stdout",
     "output_type": "stream",
     "text": [
      "a =  0.488  b =  0.012  MI =  0.8366544568165977  E =  3.904\n",
      "a =  0.489  b =  0.011  MI =  0.8474726714912182  E =  3.912\n",
      "a =  0.49  b =  0.01  MI =  0.8585594574581794  E =  3.92\n",
      "a =  0.491  b =  0.009000000000000001  MI =  0.8699411538209031  E =  3.928\n",
      "a =  0.492  b =  0.008  MI =  0.8816499885917248  E =  3.936\n",
      "a =  0.493  b =  0.007  MI =  0.89372630691534  E =  3.944\n",
      "a =  0.494  b =  0.006  MI =  0.9062220901522284  E =  3.952\n",
      "a =  0.495  b =  0.005  MI =  0.9192068641040889  E =  3.96\n",
      "a =  0.496  b =  0.004  MI =  0.9327784552416932  E =  3.968\n",
      "a =  0.497  b =  0.003  MI =  0.9470849196551524  E =  3.976\n",
      "a =  0.498  b =  0.002  MI =  0.9623776396777216  E =  3.984\n",
      "a =  0.499  b =  0.001  MI =  0.979185928664499  E =  3.992\n",
      "a =  0.5  b =  0.0  MI =  1.0  E =  4.0\n"
     ]
    },
    {
     "name": "stderr",
     "output_type": "stream",
     "text": [
      "  0%|          | 68/65536 [01:19<21:50:23,  1.20s/it]"
     ]
    },
    {
     "name": "stdout",
     "output_type": "stream",
     "text": [
      "a =  0.488  b =  0.012  MI =  0.8366544568165977  E =  3.904\n",
      "a =  0.489  b =  0.011  MI =  0.8474726714912182  E =  3.912\n",
      "a =  0.49  b =  0.01  MI =  0.8585594574581794  E =  3.92\n",
      "a =  0.491  b =  0.009000000000000001  MI =  0.8699411538209031  E =  3.928\n",
      "a =  0.492  b =  0.008  MI =  0.8816499885917248  E =  3.936\n",
      "a =  0.493  b =  0.007  MI =  0.89372630691534  E =  3.944\n",
      "a =  0.494  b =  0.006  MI =  0.9062220901522284  E =  3.952\n",
      "a =  0.495  b =  0.005  MI =  0.9192068641040889  E =  3.96\n",
      "a =  0.496  b =  0.004  MI =  0.9327784552416932  E =  3.968\n",
      "a =  0.497  b =  0.003  MI =  0.9470849196551524  E =  3.976\n",
      "a =  0.498  b =  0.002  MI =  0.9623776396777216  E =  3.984\n",
      "a =  0.499  b =  0.001  MI =  0.979185928664499  E =  3.992\n",
      "a =  0.5  b =  0.0  MI =  1.0  E =  4.0\n"
     ]
    },
    {
     "name": "stderr",
     "output_type": "stream",
     "text": [
      "  0%|          | 75/65536 [01:27<22:02:39,  1.21s/it]"
     ]
    },
    {
     "name": "stdout",
     "output_type": "stream",
     "text": [
      "a =  0.488  b =  0.012  MI =  0.8366544568165977  E =  3.904\n",
      "a =  0.489  b =  0.011  MI =  0.8474726714912182  E =  3.912\n",
      "a =  0.49  b =  0.01  MI =  0.8585594574581794  E =  3.92\n",
      "a =  0.491  b =  0.009000000000000001  MI =  0.8699411538209031  E =  3.928\n",
      "a =  0.492  b =  0.008  MI =  0.8816499885917248  E =  3.936\n",
      "a =  0.493  b =  0.007  MI =  0.89372630691534  E =  3.944\n",
      "a =  0.494  b =  0.006  MI =  0.9062220901522284  E =  3.952\n",
      "a =  0.495  b =  0.005  MI =  0.9192068641040889  E =  3.96\n",
      "a =  0.496  b =  0.004  MI =  0.9327784552416932  E =  3.968\n",
      "a =  0.497  b =  0.003  MI =  0.9470849196551524  E =  3.976\n",
      "a =  0.498  b =  0.002  MI =  0.9623776396777216  E =  3.984\n",
      "a =  0.499  b =  0.001  MI =  0.979185928664499  E =  3.992\n",
      "a =  0.5  b =  0.0  MI =  1.0  E =  4.0\n"
     ]
    },
    {
     "name": "stderr",
     "output_type": "stream",
     "text": [
      "  0%|          | 78/65536 [01:31<21:42:59,  1.19s/it]"
     ]
    },
    {
     "name": "stdout",
     "output_type": "stream",
     "text": [
      "a =  0.488  b =  0.012  MI =  0.8366544568165977  E =  3.904\n",
      "a =  0.489  b =  0.011  MI =  0.8474726714912182  E =  3.912\n",
      "a =  0.49  b =  0.01  MI =  0.8585594574581794  E =  3.92\n",
      "a =  0.491  b =  0.009000000000000001  MI =  0.8699411538209031  E =  3.928\n",
      "a =  0.492  b =  0.008  MI =  0.8816499885917248  E =  3.936\n",
      "a =  0.493  b =  0.007  MI =  0.89372630691534  E =  3.944\n",
      "a =  0.494  b =  0.006  MI =  0.9062220901522284  E =  3.952\n",
      "a =  0.495  b =  0.005  MI =  0.9192068641040889  E =  3.96\n",
      "a =  0.496  b =  0.004  MI =  0.9327784552416932  E =  3.968\n",
      "a =  0.497  b =  0.003  MI =  0.9470849196551524  E =  3.976\n",
      "a =  0.498  b =  0.002  MI =  0.9623776396777216  E =  3.984\n",
      "a =  0.499  b =  0.001  MI =  0.979185928664499  E =  3.992\n",
      "a =  0.5  b =  0.0  MI =  1.0  E =  4.0\n"
     ]
    },
    {
     "name": "stderr",
     "output_type": "stream",
     "text": [
      "  0%|          | 97/65536 [01:53<21:22:51,  1.18s/it]"
     ]
    },
    {
     "name": "stdout",
     "output_type": "stream",
     "text": [
      "a =  0.488  b =  0.012  MI =  0.8366544568165977  E =  3.904\n",
      "a =  0.489  b =  0.011  MI =  0.8474726714912182  E =  3.912\n",
      "a =  0.49  b =  0.01  MI =  0.8585594574581794  E =  3.92\n",
      "a =  0.491  b =  0.009000000000000001  MI =  0.8699411538209031  E =  3.928\n",
      "a =  0.492  b =  0.008  MI =  0.8816499885917248  E =  3.936\n",
      "a =  0.493  b =  0.007  MI =  0.89372630691534  E =  3.944\n",
      "a =  0.494  b =  0.006  MI =  0.9062220901522284  E =  3.952\n",
      "a =  0.495  b =  0.005  MI =  0.9192068641040889  E =  3.96\n",
      "a =  0.496  b =  0.004  MI =  0.9327784552416932  E =  3.968\n",
      "a =  0.497  b =  0.003  MI =  0.9470849196551524  E =  3.976\n",
      "a =  0.498  b =  0.002  MI =  0.9623776396777216  E =  3.984\n",
      "a =  0.499  b =  0.001  MI =  0.979185928664499  E =  3.992\n",
      "a =  0.5  b =  0.0  MI =  1.0  E =  4.0\n"
     ]
    },
    {
     "name": "stderr",
     "output_type": "stream",
     "text": [
      "  0%|          | 100/65536 [01:57<21:09:01,  1.16s/it]"
     ]
    },
    {
     "name": "stdout",
     "output_type": "stream",
     "text": [
      "a =  0.488  b =  0.012  MI =  0.8366544568165977  E =  3.904\n",
      "a =  0.489  b =  0.011  MI =  0.8474726714912182  E =  3.912\n",
      "a =  0.49  b =  0.01  MI =  0.8585594574581794  E =  3.92\n",
      "a =  0.491  b =  0.009000000000000001  MI =  0.8699411538209031  E =  3.928\n",
      "a =  0.492  b =  0.008  MI =  0.8816499885917248  E =  3.936\n",
      "a =  0.493  b =  0.007  MI =  0.89372630691534  E =  3.944\n",
      "a =  0.494  b =  0.006  MI =  0.9062220901522284  E =  3.952\n",
      "a =  0.495  b =  0.005  MI =  0.9192068641040889  E =  3.96\n",
      "a =  0.496  b =  0.004  MI =  0.9327784552416932  E =  3.968\n",
      "a =  0.497  b =  0.003  MI =  0.9470849196551524  E =  3.976\n",
      "a =  0.498  b =  0.002  MI =  0.9623776396777216  E =  3.984\n",
      "a =  0.499  b =  0.001  MI =  0.979185928664499  E =  3.992\n",
      "a =  0.5  b =  0.0  MI =  1.0  E =  4.0\n"
     ]
    },
    {
     "name": "stderr",
     "output_type": "stream",
     "text": [
      "  0%|          | 107/65536 [02:05<21:01:55,  1.16s/it]"
     ]
    },
    {
     "name": "stdout",
     "output_type": "stream",
     "text": [
      "a =  0.488  b =  0.012  MI =  0.8366544568165977  E =  3.904\n",
      "a =  0.489  b =  0.011  MI =  0.8474726714912182  E =  3.912\n",
      "a =  0.49  b =  0.01  MI =  0.8585594574581794  E =  3.92\n",
      "a =  0.491  b =  0.009000000000000001  MI =  0.8699411538209031  E =  3.928\n",
      "a =  0.492  b =  0.008  MI =  0.8816499885917248  E =  3.936\n",
      "a =  0.493  b =  0.007  MI =  0.89372630691534  E =  3.944\n",
      "a =  0.494  b =  0.006  MI =  0.9062220901522284  E =  3.952\n",
      "a =  0.495  b =  0.005  MI =  0.9192068641040889  E =  3.96\n",
      "a =  0.496  b =  0.004  MI =  0.9327784552416932  E =  3.968\n",
      "a =  0.497  b =  0.003  MI =  0.9470849196551524  E =  3.976\n",
      "a =  0.498  b =  0.002  MI =  0.9623776396777216  E =  3.984\n",
      "a =  0.499  b =  0.001  MI =  0.979185928664499  E =  3.992\n",
      "a =  0.5  b =  0.0  MI =  1.0  E =  4.0\n"
     ]
    },
    {
     "name": "stderr",
     "output_type": "stream",
     "text": [
      "  0%|          | 110/65536 [02:08<21:09:24,  1.16s/it]"
     ]
    },
    {
     "name": "stdout",
     "output_type": "stream",
     "text": [
      "a =  0.488  b =  0.012  MI =  0.8366544568165977  E =  3.904\n",
      "a =  0.489  b =  0.011  MI =  0.8474726714912182  E =  3.912\n",
      "a =  0.49  b =  0.01  MI =  0.8585594574581794  E =  3.92\n",
      "a =  0.491  b =  0.009000000000000001  MI =  0.8699411538209031  E =  3.928\n",
      "a =  0.492  b =  0.008  MI =  0.8816499885917248  E =  3.936\n",
      "a =  0.493  b =  0.007  MI =  0.89372630691534  E =  3.944\n",
      "a =  0.494  b =  0.006  MI =  0.9062220901522284  E =  3.952\n",
      "a =  0.495  b =  0.005  MI =  0.9192068641040889  E =  3.96\n",
      "a =  0.496  b =  0.004  MI =  0.9327784552416932  E =  3.968\n",
      "a =  0.497  b =  0.003  MI =  0.9470849196551524  E =  3.976\n",
      "a =  0.498  b =  0.002  MI =  0.9623776396777216  E =  3.984\n",
      "a =  0.499  b =  0.001  MI =  0.979185928664499  E =  3.992\n",
      "a =  0.5  b =  0.0  MI =  1.0  E =  4.0\n"
     ]
    },
    {
     "name": "stderr",
     "output_type": "stream",
     "text": [
      "  0%|          | 118/65536 [02:17<21:11:59,  1.17s/it]"
     ]
    },
    {
     "ename": "KeyboardInterrupt",
     "evalue": "",
     "output_type": "error",
     "traceback": [
      "\u001b[0;31m---------------------------------------------------------------------------\u001b[0m",
      "\u001b[0;31mKeyboardInterrupt\u001b[0m                         Traceback (most recent call last)",
      "\u001b[0;32m<ipython-input-6-78dcfe60a0a5>\u001b[0m in \u001b[0;36m<module>\u001b[0;34m\u001b[0m\n\u001b[1;32m      5\u001b[0m     \u001b[0;31m# convert to numpy array and reshape to 4x4\u001b[0m\u001b[0;34m\u001b[0m\u001b[0;34m\u001b[0m\u001b[0;34m\u001b[0m\u001b[0m\n\u001b[1;32m      6\u001b[0m     \u001b[0msettingArray\u001b[0m \u001b[0;34m=\u001b[0m \u001b[0mnp\u001b[0m\u001b[0;34m.\u001b[0m\u001b[0mfromiter\u001b[0m\u001b[0;34m(\u001b[0m\u001b[0ms\u001b[0m\u001b[0;34m,\u001b[0m \u001b[0mnp\u001b[0m\u001b[0;34m.\u001b[0m\u001b[0mint8\u001b[0m\u001b[0;34m)\u001b[0m\u001b[0;34m.\u001b[0m\u001b[0mreshape\u001b[0m\u001b[0;34m(\u001b[0m\u001b[0;36m4\u001b[0m\u001b[0;34m,\u001b[0m \u001b[0;36m4\u001b[0m\u001b[0;34m)\u001b[0m\u001b[0;34m\u001b[0m\u001b[0;34m\u001b[0m\u001b[0m\n\u001b[0;32m----> 7\u001b[0;31m     \u001b[0mcalculateViolation\u001b[0m\u001b[0;34m(\u001b[0m\u001b[0msettingArray\u001b[0m\u001b[0;34m)\u001b[0m\u001b[0;34m\u001b[0m\u001b[0;34m\u001b[0m\u001b[0m\n\u001b[0m\u001b[1;32m      8\u001b[0m     \u001b[0mpbar\u001b[0m\u001b[0;34m.\u001b[0m\u001b[0mupdate\u001b[0m\u001b[0;34m(\u001b[0m\u001b[0;36m1\u001b[0m\u001b[0;34m)\u001b[0m\u001b[0;34m\u001b[0m\u001b[0;34m\u001b[0m\u001b[0m\n",
      "\u001b[0;32m<ipython-input-5-67ae2446e4fe>\u001b[0m in \u001b[0;36mcalculateViolation\u001b[0;34m(arr)\u001b[0m\n\u001b[1;32m      8\u001b[0m     \u001b[0;32mfor\u001b[0m \u001b[0ma\u001b[0m \u001b[0;32min\u001b[0m \u001b[0mx\u001b[0m\u001b[0;34m:\u001b[0m\u001b[0;34m\u001b[0m\u001b[0;34m\u001b[0m\u001b[0m\n\u001b[1;32m      9\u001b[0m         \u001b[0;32mfor\u001b[0m \u001b[0mb\u001b[0m \u001b[0;32min\u001b[0m \u001b[0mx\u001b[0m\u001b[0;34m:\u001b[0m\u001b[0;34m\u001b[0m\u001b[0;34m\u001b[0m\u001b[0m\n\u001b[0;32m---> 10\u001b[0;31m             \u001b[0;32mif\u001b[0m\u001b[0;34m(\u001b[0m\u001b[0;36m2\u001b[0m\u001b[0;34m*\u001b[0m\u001b[0ma\u001b[0m \u001b[0;34m+\u001b[0m \u001b[0;36m2\u001b[0m\u001b[0;34m*\u001b[0m\u001b[0mb\u001b[0m \u001b[0;34m==\u001b[0m \u001b[0;36m1.00\u001b[0m\u001b[0;34m)\u001b[0m\u001b[0;34m:\u001b[0m\u001b[0;34m\u001b[0m\u001b[0;34m\u001b[0m\u001b[0m\n\u001b[0m\u001b[1;32m     11\u001b[0m                 \u001b[0mpArr\u001b[0m \u001b[0;34m=\u001b[0m \u001b[0mprobDist\u001b[0m\u001b[0;34m(\u001b[0m\u001b[0ma\u001b[0m\u001b[0;34m,\u001b[0m\u001b[0mb\u001b[0m\u001b[0;34m)\u001b[0m\u001b[0;34m\u001b[0m\u001b[0;34m\u001b[0m\u001b[0m\n\u001b[1;32m     12\u001b[0m                 \u001b[0mxy\u001b[0m \u001b[0;34m=\u001b[0m \u001b[0;36m0\u001b[0m\u001b[0;34m\u001b[0m\u001b[0;34m\u001b[0m\u001b[0m\n",
      "\u001b[0;31mKeyboardInterrupt\u001b[0m: "
     ]
    }
   ],
   "source": [
    "values = [-1,1]\n",
    "seq = itertools.product(values, repeat=16)\n",
    "pbar = tqdm(total=65536)\n",
    "for s in seq:\n",
    "    # convert to numpy array and reshape to 4x4\n",
    "    settingArray = np.fromiter(s, np.int8).reshape(4, 4)\n",
    "    calculateViolation(settingArray)\n",
    "    pbar.update(1)"
   ]
  }
 ],
 "metadata": {
  "kernelspec": {
   "display_name": "Python 3",
   "language": "python",
   "name": "python3"
  },
  "language_info": {
   "codemirror_mode": {
    "name": "ipython",
    "version": 3
   },
   "file_extension": ".py",
   "mimetype": "text/x-python",
   "name": "python",
   "nbconvert_exporter": "python",
   "pygments_lexer": "ipython3",
   "version": "3.7.3"
  }
 },
 "nbformat": 4,
 "nbformat_minor": 2
}
